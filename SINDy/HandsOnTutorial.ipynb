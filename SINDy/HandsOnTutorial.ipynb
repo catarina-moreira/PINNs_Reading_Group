{
 "cells": [
  {
   "attachments": {},
   "cell_type": "markdown",
   "metadata": {},
   "source": [
    "# Sparse Identification of Nonlinear Dynamical systems (SINDy) "
   ]
  },
  {
   "attachments": {},
   "cell_type": "markdown",
   "metadata": {},
   "source": [
    "Source: [PySINDy Examples](https://pysindy.readthedocs.io/en/latest/examples/2_introduction_to_sindy/example.html)"
   ]
  },
  {
   "cell_type": "code",
   "execution_count": null,
   "metadata": {},
   "outputs": [],
   "source": [
    "!pip install pysindy\n",
    "!pip install cvxpy"
   ]
  },
  {
   "attachments": {},
   "cell_type": "markdown",
   "metadata": {},
   "source": [
    "## SINDy Main Ideas\n",
    "Suppose we have a set of measurements $x(t)\\in \\mathbb{R}^n$ from some physical system at different points in time $t$. SINDy seeks to represent the time evolution of $x(t)$ in terms of a nonlinear function $f$:\n",
    "\n",
    "$$ \\frac{d}{dt}x(t) = f(x(t)). $$\n",
    "\n",
    "This equation constitutes a *dynamical system* for the measurements $x(t)$. The vector $x(t)=[x_1(t), x_2(t), \\dots x_n(t)]^\\top$ gives the state of the physical system at time $t$. The function $f(x(t))$ constrains how the system evolves in time.\n",
    "\n",
    "The key idea behind SINDy is that the function $f$ is often **sparse** in the space of an appropriate set of basis functions. For example, the function\n",
    "\n",
    "$$\n",
    "\t\\frac{d}{dt}x = f(x)\n",
    "\t= \\begin{bmatrix} f_1(x)\\\\f_2(x) \\end{bmatrix}\n",
    "\t= \\begin{bmatrix}1 - x_1 + 3x_1x_2 \\\\ x_2^2 - 5x_1^3 \\end{bmatrix}\n",
    "$$\n",
    "\n",
    "is sparse with respect to the set of polynomials of two variables in the sense that if we were to write an expansion of the component functions of $f$ in this basis (e.g. $f_{1}(x) = \\sum_{i=0}^\\infty\\sum_{j=0}^\\infty a_{i,j}x_1^ix_2^j$), only a small number of coefficients ($a_{i,j}$) would be nonzero.\n",
    "\n",
    "SINDy employs **sparse regression** to find a linear combination of basis functions that best capture the dynamic behavior of the physical system."
   ]
  },
  {
   "attachments": {},
   "cell_type": "markdown",
   "metadata": {},
   "source": [
    "## Approximation problem\n",
    "To apply SINDy in practice one needs a set of measurement data collected at times $t_1, t_2, \\dots, t_n$, and the time derivatives of these measurements (either measured directly or numerically approximated). These data are aggregated into the matrices $X$ and $\\dot X$, respectively\n",
    "\n",
    "$$\n",
    "\tX = \\begin{bmatrix}\n",
    "\t\tx_1(t_1) & x_2(t_1) & \\dots & x_n(t_1) \\\\\n",
    "\t\tx_1(t_2) & x_2(t_2) & \\dots & x_n(t_2) \\\\\n",
    "\t\t\\vdots & \\vdots & & \\vdots \\\\ x_1(t_m) & x_2(t_m) & \\dots & x_n(t_m)\n",
    "\t\\end{bmatrix},\n",
    "\t\\qquad\n",
    "\t\\dot{X} = \\begin{bmatrix} \\dot{x_1}(t_1) & \\dot{x_2}(t_1) & \\dots & \\dot{x_n}(t_1) \\\\\n",
    "\t\t\\dot{x_1}(t_2) & \\dot{x_2}(t_2) & \\dots & \\dot{x_n}(t_2) \\\\\n",
    "\t\t\\vdots & \\vdots & & \\vdots \\\\\n",
    "\t\t\\dot{x_1}(t_m) & \\dot{x_2}(t_m) & \\dots & \\dot{x_n}(t_m)\n",
    "\t\\end{bmatrix}.\n",
    "$$\n",
    "\n",
    "Next, one forms a library matrix $\\Theta(X)$ whose columns consist of a chosen set of basis functions applied to the data\n",
    "\n",
    "$$\n",
    "\t\\Theta(X) = \\begin{bmatrix}\n",
    "\t\t\\mid & \\mid & & \\mid \\\\\n",
    "\t\t\\theta_1(X) & \\theta_2(X) & \\dots & \\theta_\\ell(X) \\\\\n",
    "\t\t\\mid & \\mid & & \\mid\n",
    "\t\\end{bmatrix}.\n",
    "$$\n",
    "\n",
    "For example, if $\\theta_1(x), \\theta_2(x), \\dots, \\theta_\\ell(x)$ are monomials ($\\theta_i(x) = x^{i-1}$), then\n",
    "\n",
    "$$\n",
    "\t\\theta_3(X) = \\begin{bmatrix}\n",
    "\t\t\\mid & \\mid & & \\mid & \\mid & & \\mid \\\\\n",
    "\t\tx_1(t)^2 & x_1(t)x_2(t) & \\dots & x_2(t)^2 & x_2(t)x_3(t) & \\dots & x_n^2(t) \\\\\n",
    "\t\t\\mid & \\mid & & \\mid & \\mid & & \\mid\n",
    "\t\\end{bmatrix},\n",
    "$$\n",
    "\n",
    "where vector products and powers are understood to be element-wise.\n",
    "\n",
    "We seek a set of sparse coefficient vectors (collected into a matrix)\n",
    "\n",
    "$$\n",
    "\t\\Xi = \\begin{bmatrix}\n",
    "\t\t\\mid & \\mid & & \\mid \\\\\n",
    "\t\t\\xi_1 & \\xi_2 & \\dots & \\xi_n \\\\\n",
    "\t\t\\mid & \\mid & & \\mid\n",
    "\t\\end{bmatrix}.\n",
    "$$\n",
    "\n",
    "The vector $\\xi_i$ provides the coefficients for a linear combination of basis functions $\\theta_1(x), \\theta_2(x), \\dots, \\theta_\\ell(x)$ representing the $i$th component function of $f$: $f_i(x)$. That is to say, $f_i(x) = \\Theta\\left(x^\\top\\right) \\xi_i$, where $\\Theta\\left(x^\\top\\right)$ is understood to be a row vector consisting of symbolic functions (whereas $\\Theta(X)$ is a matrix whose entries are numerical values).\n",
    "\n",
    "With each of the objects $X$, $\\dot X$, $\\Theta(X)$, and $\\Xi$ being defined, we are ready to write down the approximation problem underlying SINDy:\n",
    "\n",
    "$$ \\dot X \\approx \\Theta(X)\\Xi. $$"
   ]
  },
  {
   "attachments": {},
   "cell_type": "markdown",
   "metadata": {},
   "source": [
    "### Differentiation Functions Available\n",
    "\n",
    "PySINDy has the following implementations of differentiation functions:\n",
    "\n",
    "* `FiniteDifference` - First order (forward difference) or second order (centered difference) finite difference methods with the ability to drop endpoints. Does *not* assume a uniform time step. Appropriate for smooth data.\n",
    "* `finite_difference` - Central finite differences of any order. Assumes a uniform time step. Appropriate for smooth data.\n",
    "* `Smoothed Finite Difference` - `FiniteDifference` with a smoother (default is Savitzky Golay) applied to the data before differentiation. Appropriate for noisy data.\n",
    "* `savitzky_golay` - Perform a least-squares fit of a polynomial to the data, then compute the derivative of the polynomial. Appropriate for noisy data.\n",
    "* `spline` - Fit the data with a spline (of arbitrary order) then perform differentiation on the spline. Appropriate for noisy data.\n",
    "* `trend_filtered` - Use total squared variations to fit the data (computes a global derivative that is a piecewise combination of polynomials of a chosen order). Set `order=0` to obtain the total-variational derivative. Appropriate for noisy data\n",
    "* `spectral` - Compute the spectral derivative of the data via Fourier Transform. Appropriate for very smooth (i.e. analytic) data. There is an in-house PySINDy version for speed but this is also included in the derivative package."
   ]
  },
  {
   "attachments": {},
   "cell_type": "markdown",
   "metadata": {},
   "source": [
    "## Simple illustrative systems\n",
    "Here we give examples of SINDy applied to simple linear and nonlinear dynamical systems."
   ]
  },
  {
   "cell_type": "code",
   "execution_count": null,
   "metadata": {},
   "outputs": [],
   "source": [
    "import numpy as np\n",
    "\n",
    "import matplotlib.pyplot as plt\n",
    "from mpl_toolkits.mplot3d import Axes3D\n",
    "from matplotlib.cm import rainbow\n",
    "\n",
    "import pysindy as ps\n",
    "import seaborn as sns\n",
    "sns.set_style(\"white\")\n",
    "\n",
    "plot_kws = dict(alpha=0.7, linewidth=3)\n",
    "pal = sns.color_palette(\"Set1\")"
   ]
  },
  {
   "cell_type": "code",
   "execution_count": null,
   "metadata": {},
   "outputs": [],
   "source": [
    "from utils import plot_lorenz\n",
    "from utils import gen_data_lorenz\n",
    "from utils import print_equations\n"
   ]
  },
  {
   "attachments": {},
   "cell_type": "markdown",
   "metadata": {},
   "source": [
    "### Linear 2D ODE\n",
    "\n",
    "The first example shows a demonstration of SINDy on a linear two-dimensional damped harmonic oscillator.\n",
    "\n",
    "We generate training data by integrating the following linear system of differential equations with initial condtion $(2,0)$.\n",
    "\n",
    "$$ \\frac{d}{dt} \\begin{bmatrix}x \\\\ y\\end{bmatrix} = \\begin{bmatrix} -0.1 & 2 \\\\ -2 & -0.1 \\end{bmatrix} \\begin{bmatrix}x \\\\ y\\end{bmatrix} $$"
   ]
  },
  {
   "attachments": {},
   "cell_type": "markdown",
   "metadata": {},
   "source": [
    "#### 1. Generate Samples"
   ]
  },
  {
   "cell_type": "code",
   "execution_count": null,
   "metadata": {},
   "outputs": [],
   "source": [
    "# Generate training data\n",
    "from scipy.integrate import solve_ivp\n",
    "from pysindy.utils import linear_damped_SHO\n",
    "\n",
    "# Integrator keywords for solve_ivp\n",
    "integrator_keywords = {}\n",
    "integrator_keywords['rtol'] = 1e-12\n",
    "integrator_keywords['method'] = 'LSODA'\n",
    "integrator_keywords['atol'] = 1e-12\n",
    "\n",
    "\n",
    "time_step = 0.01\n",
    "lower_bound = 0\n",
    "upper_bound = 40\n",
    "\n",
    "t_train = np.arange(lower_bound, upper_bound, time_step) # time resolution\n",
    "x0_train = [2, 0] # initial conditions\n",
    "\n",
    "solver = solve_ivp(linear_damped_SHO, [lower_bound, upper_bound],\n",
    "                    x0_train, t_eval=t_train, **integrator_keywords)\n",
    "solver"
   ]
  },
  {
   "cell_type": "code",
   "execution_count": null,
   "metadata": {},
   "outputs": [],
   "source": [
    "x_train = solver.y.T"
   ]
  },
  {
   "cell_type": "code",
   "execution_count": null,
   "metadata": {},
   "outputs": [],
   "source": [
    "fig, ax = plt.subplots(1, 1, figsize=(5, 5))\n",
    "\n",
    "ax.plot(x_train[:, 0], x_train[:, 1], '.', label=\"Clean\", color=pal[0], **plot_kws)\n",
    "ax.set(title='Training data', xlabel='$x_0$', ylabel='$x_1$')\n",
    "ax.legend()\n",
    "fig.show()"
   ]
  },
  {
   "attachments": {},
   "cell_type": "markdown",
   "metadata": {},
   "source": [
    "#### 2. Build a Library of candidate terms that can describe the dynamics of the data"
   ]
  },
  {
   "cell_type": "code",
   "execution_count": null,
   "metadata": {},
   "outputs": [],
   "source": [
    "poly_order = 5\n",
    "Theta = ps.PolynomialLibrary(degree=poly_order)\n",
    "Theta"
   ]
  },
  {
   "attachments": {},
   "cell_type": "markdown",
   "metadata": {},
   "source": [
    "#### 3. Apply a Sparse Optimisation Method\n",
    "\n",
    "In this example, we will apply the algorithm Sequential Threshold Least-Squares. We will set the threshold to 0.05"
   ]
  },
  {
   "cell_type": "code",
   "execution_count": null,
   "metadata": {},
   "outputs": [],
   "source": [
    "optimizer = ps.STLSQ(threshold=0.05)\n",
    "optimizer"
   ]
  },
  {
   "attachments": {},
   "cell_type": "markdown",
   "metadata": {},
   "source": [
    "#### 4. Choose a Differentiation Function"
   ]
  },
  {
   "cell_type": "code",
   "execution_count": null,
   "metadata": {},
   "outputs": [],
   "source": [
    "diff = ps.FiniteDifference()"
   ]
  },
  {
   "attachments": {},
   "cell_type": "markdown",
   "metadata": {},
   "source": [
    "#### 5. Run SINDy"
   ]
  },
  {
   "cell_type": "code",
   "execution_count": null,
   "metadata": {},
   "outputs": [],
   "source": [
    "# apply SINDy for cleaned data\n",
    "\n",
    "model = ps.SINDy(\n",
    "    optimizer=optimizer,\n",
    "    feature_library=Theta,\n",
    "    differentiation_method=diff,\n",
    "    feature_names=[\"x\", \"y\"]\n",
    ")\n",
    "model.fit(x_train, t=time_step)\n",
    "equations = model.equations()\n",
    "print_equations(equations)"
   ]
  },
  {
   "attachments": {},
   "cell_type": "markdown",
   "metadata": {},
   "source": [
    "#### 6. Simulate Model\n",
    "\n",
    "The learned model can be used to evolve initial conditions forward in time. Here we plot the trajectories predicted by the SINDy model against those of the true governing equations."
   ]
  },
  {
   "cell_type": "code",
   "execution_count": null,
   "metadata": {},
   "outputs": [],
   "source": [
    "# Simulate \n",
    "x_sim = model.simulate(x0_train, t_train)\n",
    "x_sim"
   ]
  },
  {
   "cell_type": "code",
   "execution_count": null,
   "metadata": {},
   "outputs": [],
   "source": [
    "# plot the results\n",
    "\n",
    "x_sim = model.simulate(x0_train, t_train)\n",
    "plot_kws = dict(linewidth=2)\n",
    "\n",
    "fig, axs = plt.subplots(1, 2, figsize=(10, 4))\n",
    "axs[0].plot(t_train, x_train[:, 0], \"r\", label=\"$x_0$\", **plot_kws)\n",
    "axs[0].plot(t_train, x_train[:, 1], \"b\", label=\"$x_1$\", alpha=0.4, **plot_kws)\n",
    "axs[0].plot(t_train, x_sim[:, 0], \"k--\", label=\"model\", **plot_kws)\n",
    "axs[0].plot(t_train, x_sim[:, 1], \"k--\")\n",
    "axs[0].legend()\n",
    "axs[0].set(xlabel=\"t\", ylabel=\"$x_k$\")\n",
    "\n",
    "axs[1].plot(x_train[:, 0], x_train[:, 1], \"r\", label=\"$x_k$\", **plot_kws)\n",
    "axs[1].plot(x_sim[:, 0], x_sim[:, 1], \"k--\", label=\"model\", **plot_kws)\n",
    "axs[1].legend()\n",
    "axs[1].set(xlabel=\"$x_1$\", ylabel=\"$x_2$\")\n",
    "fig.show()"
   ]
  },
  {
   "attachments": {},
   "cell_type": "markdown",
   "metadata": {},
   "source": [
    "### Linear 3D ODE\n",
    "\n",
    "Our final example of this section shows the application of SINDy to identify of a linear system in three dimensions. The governing equations are given by the following system.\n",
    "\n",
    "$$ \\frac{d}{dt}\\begin{bmatrix}x \\\\ y \\\\ z \\end{bmatrix} = \\begin{bmatrix}-0.1 & -2 & 0 \\\\ 2 & -0.1 & 0 \\\\ 0 & 0 & -0.3 \\end{bmatrix} \\begin{bmatrix}x \\\\ y \\\\ z \\end{bmatrix} $$"
   ]
  },
  {
   "attachments": {},
   "cell_type": "markdown",
   "metadata": {},
   "source": [
    "#### 1. Generate Samples"
   ]
  },
  {
   "cell_type": "code",
   "execution_count": null,
   "metadata": {},
   "outputs": [],
   "source": [
    "from pysindy.utils import linear_3D\n",
    "\n",
    "dt = 0.01\n",
    "t_train = np.arange(0, 50, dt)\n",
    "t_train_span = (t_train[0], t_train[-1])\n",
    "x0_train = [2, 0, 1]\n",
    "x_train = solve_ivp(linear_3D, t_train_span, \n",
    "                    x0_train, t_eval=t_train, **integrator_keywords).y.T\n",
    "x_train"
   ]
  },
  {
   "attachments": {},
   "cell_type": "markdown",
   "metadata": {},
   "source": [
    "#### 2. Build a Library of candidate terms that can describe the dynamics of the data"
   ]
  },
  {
   "cell_type": "code",
   "execution_count": null,
   "metadata": {},
   "outputs": [],
   "source": [
    "Theta = ps.PolynomialLibrary(degree=5)\n",
    "Theta"
   ]
  },
  {
   "attachments": {},
   "cell_type": "markdown",
   "metadata": {},
   "source": [
    "#### 3. Choose a Sparse Optimisation Method\n"
   ]
  },
  {
   "cell_type": "code",
   "execution_count": null,
   "metadata": {},
   "outputs": [],
   "source": [
    "optimizer = ps.STLSQ(threshold=0.01)\n",
    "optimizer"
   ]
  },
  {
   "attachments": {},
   "cell_type": "markdown",
   "metadata": {},
   "source": [
    "#### 4. Choose a Differentiation Function"
   ]
  },
  {
   "cell_type": "code",
   "execution_count": null,
   "metadata": {},
   "outputs": [],
   "source": [
    "diff = ps.FiniteDifference()"
   ]
  },
  {
   "attachments": {},
   "cell_type": "markdown",
   "metadata": {},
   "source": [
    "#### 5. Run SINDy"
   ]
  },
  {
   "cell_type": "code",
   "execution_count": null,
   "metadata": {},
   "outputs": [],
   "source": [
    "model = ps.SINDy(\n",
    "    optimizer=optimizer,\n",
    "    feature_library=Theta,\n",
    "    differentiation_method=diff,\n",
    "    feature_names=[\"x\", \"y\", \"z\"]\n",
    ")\n",
    "model.fit(x_train, t=dt)\n",
    "equations = model.equations()\n",
    "print_equations(equations)"
   ]
  },
  {
   "attachments": {},
   "cell_type": "markdown",
   "metadata": {},
   "source": [
    "#### 6. Simulate Model\n"
   ]
  },
  {
   "cell_type": "code",
   "execution_count": null,
   "metadata": {},
   "outputs": [],
   "source": [
    "x_sim = model.simulate(x0_train, t_train)\n",
    "x_sim"
   ]
  },
  {
   "cell_type": "code",
   "execution_count": null,
   "metadata": {},
   "outputs": [],
   "source": [
    "plot_kws = dict(linewidth=2)\n",
    "\n",
    "fig = plt.figure(figsize=(8, 4))\n",
    "plt.plot(t_train, x_train[:, 0], \"r\", label=\"$x_0$\", **plot_kws)\n",
    "plt.plot(t_train, x_train[:, 1], \"b\", label=\"$x_1$\", alpha=0.4, **plot_kws)\n",
    "plt.plot(t_train, x_train[:, 2], \"g\", label=\"$x_2$\", **plot_kws)\n",
    "plt.plot(t_train, x_sim[:, 0], \"k--\", label=\"model\", **plot_kws)\n",
    "plt.plot(t_train, x_sim[:, 1], \"k--\", **plot_kws)\n",
    "plt.plot(t_train, x_sim[:, 2], \"k--\", **plot_kws)\n",
    "plt.legend()\n",
    "plt.xlabel(\"t\")\n",
    "plt.ylabel(\"$x_k$\")\n",
    "fig.show()\n",
    "\n",
    "fig = plt.figure(figsize=(6, 6))\n",
    "ax = fig.add_subplot(111, projection=\"3d\")\n",
    "ax.plot(x_train[:, 0], x_train[:, 1], x_train[:, 2], \"r\", label=\"$x_k$\", **plot_kws)\n",
    "ax.plot(x_sim[:, 0], x_sim[:, 1], x_sim[:, 2], \"k--\", label=\"model\", **plot_kws)\n",
    "ax.set(xlabel=\"$x_0$\", ylabel=\"$x_1$\", zlabel=\"$x_2$\")\n",
    "ax.legend()\n",
    "fig.show()"
   ]
  },
  {
   "attachments": {},
   "cell_type": "markdown",
   "metadata": {},
   "source": [
    "### Lorenz System - Non Linear\n",
    "\n"
   ]
  },
  {
   "attachments": {},
   "cell_type": "markdown",
   "metadata": {},
   "source": [
    "#### 1. Generate Samples"
   ]
  },
  {
   "cell_type": "code",
   "execution_count": null,
   "metadata": {},
   "outputs": [],
   "source": [
    "from pysindy.utils import lorenz\n",
    "\n",
    "# Generate measurement data\n",
    "dt = .002\n",
    "noise_level = 0.5\n",
    "\n",
    "t_train = np.arange(0, 10, dt)\n",
    "t_train_span = (t_train[0], t_train[-1])\n",
    "x0_train = [-8, 8, 27]\n",
    "x_train = solve_ivp(lorenz, t_train_span, x0_train, t_eval=t_train, **integrator_keywords).y.T\n",
    "x_train_noisy = x_train + noise_level * np.random.randn(*x_train.shape)"
   ]
  },
  {
   "cell_type": "code",
   "execution_count": null,
   "metadata": {},
   "outputs": [],
   "source": [
    "NOISE = 0.5\n",
    "dt, t_train, x_train, x_train_noisy = gen_data_lorenz(NOISE, integrator_keywords)\n",
    "\n",
    "fig = plt.figure(figsize=(8, 8))\n",
    "plot_lorenz(x_train, x_train_noisy)\n",
    "fig.show()"
   ]
  },
  {
   "attachments": {},
   "cell_type": "markdown",
   "metadata": {},
   "source": [
    "#### 2. Build a Library of candidate terms that can describe the dynamics of the data"
   ]
  },
  {
   "cell_type": "code",
   "execution_count": null,
   "metadata": {},
   "outputs": [],
   "source": [
    "Theta = ps.PolynomialLibrary(degree=5)\n",
    "Theta"
   ]
  },
  {
   "attachments": {},
   "cell_type": "markdown",
   "metadata": {},
   "source": [
    "#### 3. Select Optimizer"
   ]
  },
  {
   "cell_type": "code",
   "execution_count": null,
   "metadata": {},
   "outputs": [],
   "source": [
    "optimizer = ps.STLSQ(threshold=0.05)\n",
    "optimizer"
   ]
  },
  {
   "attachments": {},
   "cell_type": "markdown",
   "metadata": {},
   "source": [
    "#### 4. Select Differentiation Function"
   ]
  },
  {
   "cell_type": "code",
   "execution_count": null,
   "metadata": {},
   "outputs": [],
   "source": [
    "diff = ps.FiniteDifference()"
   ]
  },
  {
   "attachments": {},
   "cell_type": "markdown",
   "metadata": {},
   "source": [
    "#### 5. Run SINDy"
   ]
  },
  {
   "cell_type": "code",
   "execution_count": null,
   "metadata": {},
   "outputs": [],
   "source": [
    "model = ps.SINDy(\n",
    "    optimizer=optimizer,\n",
    "    feature_library=Theta,\n",
    "    #differentiation_method=diff,\n",
    "    feature_names=[\"x\", \"y\", \"z\"]\n",
    ")\n",
    "model.fit(x_train, t=dt)\n",
    "equations = model.equations()\n",
    "print_equations(equations)\n"
   ]
  },
  {
   "attachments": {},
   "cell_type": "markdown",
   "metadata": {},
   "source": [
    "#### 6. Simulate Model"
   ]
  },
  {
   "cell_type": "code",
   "execution_count": null,
   "metadata": {},
   "outputs": [],
   "source": [
    "x_sim = model.simulate(x_train[0], t_train)\n",
    "\n",
    "plt.figure(figsize=(6, 4))\n",
    "plt.plot(x_train[:, 0], x_train[:, 2], label='Ground truth')\n",
    "plt.plot(x_sim[:, 0], x_sim[:, 2], '--', label='SINDy estimate')\n",
    "plt.plot(x0_train[0], x0_train[2], \"ko\", label=\"Initial condition\", markersize=8)\n",
    "plt.legend()\n",
    "plt.draw()\n",
    "plt.show()"
   ]
  },
  {
   "cell_type": "code",
   "execution_count": null,
   "metadata": {},
   "outputs": [],
   "source": [
    "def plot_dimension(dim, name):\n",
    "    fig = plt.figure(figsize=(9,2))\n",
    "    ax = fig.gca()\n",
    "    ax.plot(t_train, x_train[:, dim])\n",
    "    ax.plot(t_train, x_sim[:, dim], \"--\")\n",
    "    plt.xlabel(\"time\")\n",
    "    plt.ylabel(name)\n",
    "\n",
    "plot_dimension(0, 'x')\n",
    "plot_dimension(1, 'y')\n",
    "plot_dimension(2, 'z')"
   ]
  },
  {
   "attachments": {},
   "cell_type": "markdown",
   "metadata": {},
   "source": [
    "#### 7. Run SINDy on Noisy data"
   ]
  },
  {
   "cell_type": "code",
   "execution_count": null,
   "metadata": {},
   "outputs": [],
   "source": [
    "model = ps.SINDy(\n",
    "    optimizer=optimizer,\n",
    "    feature_library=Theta,\n",
    "    differentiation_method=diff,\n",
    "    feature_names=[\"x\", \"y\", \"z\"]\n",
    ")\n",
    "model.fit(x_train_noisy, t=dt)\n",
    "equations = model.equations()\n",
    "print_equations(equations)"
   ]
  },
  {
   "cell_type": "code",
   "execution_count": null,
   "metadata": {},
   "outputs": [],
   "source": [
    "x_sim = model.simulate(x_train_noisy[0], t_train)\n",
    "\n",
    "plt.figure(figsize=(6, 4))\n",
    "plt.plot(x_train_noisy[:, 0], x_train_noisy[:, 2], label='Ground truth')\n",
    "plt.plot(x_sim[:, 0], x_sim[:, 2], '--', label='SINDy estimate')\n",
    "plt.plot(x0_train[0], x0_train[2], \"ko\", label=\"Initial condition\", markersize=8)\n",
    "plt.legend()\n",
    "plt.draw()\n",
    "plt.show()"
   ]
  },
  {
   "cell_type": "code",
   "execution_count": null,
   "metadata": {},
   "outputs": [],
   "source": [
    "def plot_dimension(dim, name):\n",
    "    fig = plt.figure(figsize=(9,2))\n",
    "    ax = fig.gca()\n",
    "    ax.plot(t_train, x_train[:, dim])\n",
    "    ax.plot(t_train, x_sim[:, dim], \"--\")\n",
    "    plt.xlabel(\"time\")\n",
    "    plt.ylabel(name)\n",
    "    \n",
    "plot_dimension(0, 'x')\n",
    "plot_dimension(1, 'y')\n",
    "plot_dimension(2, 'z')"
   ]
  },
  {
   "attachments": {},
   "cell_type": "markdown",
   "metadata": {},
   "source": [
    "#### Another Example\n",
    "\n",
    "https://uvadlc-notebooks.readthedocs.io/en/latest/tutorial_notebooks/DL2/Dynamical_Neural_Networks/Complete_DNN_2_1.html\n"
   ]
  },
  {
   "cell_type": "code",
   "execution_count": null,
   "metadata": {},
   "outputs": [],
   "source": [
    "from scipy.integrate import odeint\n",
    "\n",
    "rho = 28.0\n",
    "sigma = 10.0\n",
    "beta = 8.0 / 3.0\n",
    "dt = 0.01\n",
    "\n",
    "def f(state, t):\n",
    "    x, y, z = state\n",
    "    return sigma * (y - x), x * (rho - z) - y, x * y - beta * z\n",
    "\n",
    "state0 = [1.0, 1.0, 1.0]\n",
    "time_steps = np.arange(0.0, 40.0, dt)\n",
    "\n",
    "x_train = odeint(f, state0, time_steps)"
   ]
  },
  {
   "cell_type": "code",
   "execution_count": null,
   "metadata": {},
   "outputs": [],
   "source": [
    "model = ps.SINDy(\n",
    "    optimizer=ps.STLSQ(threshold=0.05),\n",
    "    feature_library=ps.PolynomialLibrary(degree=2),\n",
    ")\n",
    "\n",
    "model.fit(x_train, t=dt)\n",
    "\n",
    "x_sim = model.simulate(x_train[0], time_steps)\n",
    "print_equations(model.equations())\n"
   ]
  },
  {
   "cell_type": "code",
   "execution_count": null,
   "metadata": {},
   "outputs": [],
   "source": [
    "plt.figure(figsize=(6, 4))\n",
    "plt.plot(x_train[:, 0], x_train[:, 2], label='Ground truth')\n",
    "plt.plot(x_sim[:, 0], x_sim[:, 2], '--', label='SINDy estimate')\n",
    "plt.plot(x_train[0, 0], x_train[0, 2], \"ko\", label=\"Initial condition\", markersize=8)\n",
    "plt.legend()\n",
    "plt.draw()\n",
    "plt.show()"
   ]
  },
  {
   "cell_type": "code",
   "execution_count": null,
   "metadata": {},
   "outputs": [],
   "source": [
    "def plot_dimension(dim, name):\n",
    "    fig = plt.figure(figsize=(9,2))\n",
    "    ax = fig.gca()\n",
    "    ax.plot(time_steps, x_train[:, dim])\n",
    "    ax.plot(time_steps, x_sim[:, dim], \"--\")\n",
    "    plt.xlabel(\"time\")\n",
    "    plt.ylabel(name)\n",
    "    \n",
    "plot_dimension(0, 'x')\n",
    "plot_dimension(1, 'y')\n",
    "plot_dimension(2, 'z')"
   ]
  },
  {
   "attachments": {},
   "cell_type": "markdown",
   "metadata": {},
   "source": []
  },
  {
   "attachments": {},
   "cell_type": "markdown",
   "metadata": {},
   "source": []
  }
 ],
 "metadata": {
  "kernelspec": {
   "display_name": "base",
   "language": "python",
   "name": "python3"
  },
  "language_info": {
   "codemirror_mode": {
    "name": "ipython",
    "version": 3
   },
   "file_extension": ".py",
   "mimetype": "text/x-python",
   "name": "python",
   "nbconvert_exporter": "python",
   "pygments_lexer": "ipython3",
   "version": "3.8.16"
  },
  "orig_nbformat": 4
 },
 "nbformat": 4,
 "nbformat_minor": 2
}
